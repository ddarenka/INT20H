{
 "cells": [
  {
   "cell_type": "code",
   "execution_count": 39,
   "metadata": {},
   "outputs": [],
   "source": [
    "import pandas as pd\n",
    "import numpy as np\n",
    "import seaborn as sns\n",
    "import matplotlib.pyplot as plt\n",
    "import string\n",
    "import re\n",
    "\n",
    "%matplotlib inline"
   ]
  },
  {
   "cell_type": "code",
   "execution_count": 3,
   "metadata": {},
   "outputs": [],
   "source": [
    "train = pd.read_csv(r'../data/train.csv', index_col='id')\n",
    "test = pd.read_csv(r'../data/test.csv', index_col='id')\n",
    "submission = pd.read_csv(r'../data/submission.csv')"
   ]
  },
  {
   "cell_type": "code",
   "execution_count": 9,
   "metadata": {},
   "outputs": [
    {
     "data": {
      "text/html": [
       "<div>\n",
       "<style scoped>\n",
       "    .dataframe tbody tr th:only-of-type {\n",
       "        vertical-align: middle;\n",
       "    }\n",
       "\n",
       "    .dataframe tbody tr th {\n",
       "        vertical-align: top;\n",
       "    }\n",
       "\n",
       "    .dataframe thead th {\n",
       "        text-align: right;\n",
       "    }\n",
       "</style>\n",
       "<table border=\"1\" class=\"dataframe\">\n",
       "  <thead>\n",
       "    <tr style=\"text-align: right;\">\n",
       "      <th></th>\n",
       "      <th>review</th>\n",
       "      <th>sentiment</th>\n",
       "    </tr>\n",
       "    <tr>\n",
       "      <th>id</th>\n",
       "      <th></th>\n",
       "      <th></th>\n",
       "    </tr>\n",
       "  </thead>\n",
       "  <tbody>\n",
       "    <tr>\n",
       "      <th>0</th>\n",
       "      <td>Action &amp; Adventure.Billie Clark is twenty year...</td>\n",
       "      <td>1</td>\n",
       "    </tr>\n",
       "    <tr>\n",
       "      <th>1</th>\n",
       "      <td>I found this early talkie difficult to watch a...</td>\n",
       "      <td>0</td>\n",
       "    </tr>\n",
       "  </tbody>\n",
       "</table>\n",
       "</div>"
      ],
      "text/plain": [
       "                                               review  sentiment\n",
       "id                                                              \n",
       "0   Action & Adventure.Billie Clark is twenty year...          1\n",
       "1   I found this early talkie difficult to watch a...          0"
      ]
     },
     "execution_count": 9,
     "metadata": {},
     "output_type": "execute_result"
    }
   ],
   "source": [
    "train.head(2)"
   ]
  },
  {
   "cell_type": "code",
   "execution_count": 27,
   "metadata": {},
   "outputs": [
    {
     "data": {
      "text/plain": [
       "<matplotlib.axes._subplots.AxesSubplot at 0x26eb1620748>"
      ]
     },
     "execution_count": 27,
     "metadata": {},
     "output_type": "execute_result"
    },
    {
     "data": {
      "image/png": "[encoded data removed]",
      "text/plain": [
       "<Figure size 432x288 with 1 Axes>"
      ]
     },
     "metadata": {
      "needs_background": "light"
     },
     "output_type": "display_data"
    }
   ],
   "source": [
    "sns.barplot(train['sentiment'], train['sentiment'].value_counts())"
   ]
  },
  {
   "cell_type": "code",
   "execution_count": 33,
   "metadata": {},
   "outputs": [
    {
     "data": {
      "text/plain": [
       "id\n",
       "0    Action & Adventure.Billie Clark is twenty year...\n",
       "1    I found this early talkie difficult to watch a...\n",
       "2    It was Libby talking to Desmond in the flashba...\n",
       "3    We fans of Ed Wood tend to be an obsessive bun...\n",
       "4    Hmm, Hip Hop music to a period western. Modern...\n",
       "Name: review, dtype: object"
      ]
     },
     "execution_count": 33,
     "metadata": {},
     "output_type": "execute_result"
    }
   ],
   "source": [
    "train['review'].head()"
   ]
  },
  {
   "cell_type": "code",
   "execution_count": 43,
   "metadata": {},
   "outputs": [],
   "source": [
    "def clean_html(raw_html):\n",
    "  cleanr = re.compile('<.*?>')\n",
    "  cleantext = re.sub(cleanr, '', raw_html)\n",
    "  return cleantext"
   ]
  },
  {
   "cell_type": "code",
   "execution_count": 45,
   "metadata": {},
   "outputs": [],
   "source": [
    "from nltk.stem import WordNetLemmatizer"
   ]
  },
  {
   "cell_type": "code",
   "execution_count": null,
   "metadata": {},
   "outputs": [],
   "source": [
    "def text_preprocessing(df, columns):\n",
    "    for col in columns:\n",
    "#         To lower\n",
    "        df[col] = df[col].apply(lambda x: x.lower())\n",
    "#         Remove html tags\n",
    "        df[col] = df[col].apply(lambda x: clean_html(x))\n",
    "#         Replace punctuation with whitespaces\n",
    "        df[col] = df[col].translate(str.maketrans(string.punctuation, ''*len(string.punctuation)))\n",
    "#         Remove numbers\n",
    "        df[col] = df[col].apply(lambda x: re.sub(r'\\d+', '', x))\n",
    "#         Split by special-character whitespaces\n",
    "        df[col] = df[col].apply(lambda x: x.strip())\n",
    "#         Lemmatization\n",
    "        lemmatizer = WordNetLemmatizer()\n",
    "        df[col] = df[col].apply(lambda sentence: lemmatizer.lemmatize(word) for word in sentence)\n",
    "    return df"
   ]
  },
  {
   "cell_type": "code",
   "execution_count": 41,
   "metadata": {},
   "outputs": [
    {
     "data": {
      "text/plain": [
       "'Action & Adventure.Billie Clark is twenty years old, very pretty, and without a care in the world,until a brutal street gang violates her life, and she turns into an ALLEY CAT bent on revenge! When the gang attacks her grandparents house and her car, Billie uses her black belt prowess to fight them off. But at the same time she earns their hatred, and she and her grandparents are marked for vengence.When her grandparents lose their lives to the brutal thugs. Billie becomes like a cat stalking her prey-and no prison,police force,boyfriend,or crooked judge can get in the way of her avenging claws. She\\'s a one-woman vigilante squad,a martial arts queen,a crack shot with no mercy. She\\'s the ALLEY CAT.Watch for the dramatic ending versus the Gang leader! Rated R for Nudity & Violence, Other Films with Karin Mani: Actress - filmography,Avenging Angel (1985) .... Janie Soon Lee , \"From Here to Eternity\" (1979) (mini) TV Series .... Tawny, Filmography as: Actress, Stunts - filmography,Avenging Angel (1985) (stunts)P.S. She should have been Catwoman in the Batman Movie!'"
      ]
     },
     "execution_count": 41,
     "metadata": {},
     "output_type": "execute_result"
    }
   ],
   "source": [
    "cleanhtml(train['review'][0])"
   ]
  },
  {
   "cell_type": "code",
   "execution_count": 38,
   "metadata": {},
   "outputs": [
    {
     "data": {
      "text/plain": [
       "'Action   Adventure Billie Clark is twenty years old  very pretty  and without a care in the world until a brutal street gang violates her life  and she turns into an ALLEY CAT bent on revenge  When the gang attacks her grandparents house and her car  Billie uses her black belt prowess to fight them off  But at the same time she earns their hatred  and she and her grandparents are marked for vengence When her grandparents lose their lives to the brutal thugs  Billie becomes like a cat stalking her prey and no prison police force boyfriend or crooked judge can get in the way of her avenging claws  She s a one woman vigilante squad a martial arts queen a crack shot with no mercy  She s the ALLEY CAT Watch for the dramatic ending versus the Gang leader  Rated R for Nudity   Violence  Other Films with Karin Mani  Actress   filmography Avenging Angel  1985       Janie Soon Lee    From Here to Eternity   1979   mini  TV Series      Tawny  Filmography as  Actress  Stunts   filmography Avenging Angel  1985   stunts P S  She should have been Catwoman in the Batman Movie  br    br   '"
      ]
     },
     "execution_count": 38,
     "metadata": {},
     "output_type": "execute_result"
    }
   ],
   "source": [
    "train['review'][0].translate(str.maketrans(string.punctuation, ' '*len(string.punctuation)))"
   ]
  },
  {
   "cell_type": "code",
   "execution_count": null,
   "metadata": {},
   "outputs": [],
   "source": []
  }
 ],
 "metadata": {
  "kernelspec": {
   "display_name": "Python 3",
   "language": "python",
   "name": "python3"
  },
  "language_info": {
   "codemirror_mode": {
    "name": "ipython",
    "version": 3
   },
   "file_extension": ".py",
   "mimetype": "text/x-python",
   "name": "python",
   "nbconvert_exporter": "python",
   "pygments_lexer": "ipython3",
   "version": "3.7.3"
  }
 },
 "nbformat": 4,
 "nbformat_minor": 2
}
