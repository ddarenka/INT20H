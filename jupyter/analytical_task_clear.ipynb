{
 "cells": [
  {
   "cell_type": "code",
   "execution_count": 204,
   "metadata": {},
   "outputs": [],
   "source": [
    "import pandas as pd\n",
    "import numpy as np"
   ]
  },
  {
   "cell_type": "code",
   "execution_count": 205,
   "metadata": {},
   "outputs": [],
   "source": [
    "df = pd.read_csv(r\"../data/data_analytics.csv\")"
   ]
  },
  {
   "cell_type": "code",
   "execution_count": 206,
   "metadata": {},
   "outputs": [
    {
     "data": {
      "text/html": [
       "<div>\n",
       "<style scoped>\n",
       "    .dataframe tbody tr th:only-of-type {\n",
       "        vertical-align: middle;\n",
       "    }\n",
       "\n",
       "    .dataframe tbody tr th {\n",
       "        vertical-align: top;\n",
       "    }\n",
       "\n",
       "    .dataframe thead th {\n",
       "        text-align: right;\n",
       "    }\n",
       "</style>\n",
       "<table border=\"1\" class=\"dataframe\">\n",
       "  <thead>\n",
       "    <tr style=\"text-align: right;\">\n",
       "      <th></th>\n",
       "      <th>Event Date</th>\n",
       "      <th>App Apple ID</th>\n",
       "      <th>Subscription Name</th>\n",
       "      <th>Standard Subscription Duration</th>\n",
       "      <th>Promotional Offer Name</th>\n",
       "      <th>Promotional Offer ID</th>\n",
       "      <th>Subscription Offer Type</th>\n",
       "      <th>Subscription Offer Duration</th>\n",
       "      <th>Marketing Opt-In Duration</th>\n",
       "      <th>Customer Currency</th>\n",
       "      <th>Proceeds Currency</th>\n",
       "      <th>Device</th>\n",
       "      <th>Country</th>\n",
       "      <th>Subscriber ID</th>\n",
       "      <th>Subscriber ID Reset</th>\n",
       "      <th>Refund</th>\n",
       "      <th>Purchase Date</th>\n",
       "      <th>Units</th>\n",
       "    </tr>\n",
       "  </thead>\n",
       "  <tbody>\n",
       "    <tr>\n",
       "      <th>0</th>\n",
       "      <td>2019-07-15</td>\n",
       "      <td>1</td>\n",
       "      <td>weekly 9.99 + 7D trial</td>\n",
       "      <td>7 Days</td>\n",
       "      <td>NaN</td>\n",
       "      <td>NaN</td>\n",
       "      <td>Free Trial</td>\n",
       "      <td>7 Days</td>\n",
       "      <td>NaN</td>\n",
       "      <td>IDR</td>\n",
       "      <td>IDR</td>\n",
       "      <td>iPhone</td>\n",
       "      <td>ID</td>\n",
       "      <td>223411322456765433</td>\n",
       "      <td>NaN</td>\n",
       "      <td>NaN</td>\n",
       "      <td>NaN</td>\n",
       "      <td>1</td>\n",
       "    </tr>\n",
       "    <tr>\n",
       "      <th>1</th>\n",
       "      <td>2019-07-15</td>\n",
       "      <td>1</td>\n",
       "      <td>weekly 9.99 + 7D trial</td>\n",
       "      <td>7 Days</td>\n",
       "      <td>NaN</td>\n",
       "      <td>NaN</td>\n",
       "      <td>Free Trial</td>\n",
       "      <td>7 Days</td>\n",
       "      <td>NaN</td>\n",
       "      <td>USD</td>\n",
       "      <td>USD</td>\n",
       "      <td>iPhone</td>\n",
       "      <td>US</td>\n",
       "      <td>223411322456765434</td>\n",
       "      <td>NaN</td>\n",
       "      <td>NaN</td>\n",
       "      <td>NaN</td>\n",
       "      <td>1</td>\n",
       "    </tr>\n",
       "    <tr>\n",
       "      <th>2</th>\n",
       "      <td>2019-07-15</td>\n",
       "      <td>1</td>\n",
       "      <td>weekly 9.99 + 7D trial</td>\n",
       "      <td>7 Days</td>\n",
       "      <td>NaN</td>\n",
       "      <td>NaN</td>\n",
       "      <td>Free Trial</td>\n",
       "      <td>7 Days</td>\n",
       "      <td>NaN</td>\n",
       "      <td>INR</td>\n",
       "      <td>INR</td>\n",
       "      <td>iPhone</td>\n",
       "      <td>IN</td>\n",
       "      <td>223411322456765435</td>\n",
       "      <td>NaN</td>\n",
       "      <td>NaN</td>\n",
       "      <td>NaN</td>\n",
       "      <td>1</td>\n",
       "    </tr>\n",
       "    <tr>\n",
       "      <th>3</th>\n",
       "      <td>2019-07-15</td>\n",
       "      <td>1</td>\n",
       "      <td>weekly 9.99 + 7D trial</td>\n",
       "      <td>7 Days</td>\n",
       "      <td>NaN</td>\n",
       "      <td>NaN</td>\n",
       "      <td>Free Trial</td>\n",
       "      <td>7 Days</td>\n",
       "      <td>NaN</td>\n",
       "      <td>GBP</td>\n",
       "      <td>GBP</td>\n",
       "      <td>iPhone</td>\n",
       "      <td>GB</td>\n",
       "      <td>223411322456765437</td>\n",
       "      <td>NaN</td>\n",
       "      <td>NaN</td>\n",
       "      <td>NaN</td>\n",
       "      <td>1</td>\n",
       "    </tr>\n",
       "    <tr>\n",
       "      <th>4</th>\n",
       "      <td>2019-07-15</td>\n",
       "      <td>1</td>\n",
       "      <td>weekly 9.99 + 7D trial</td>\n",
       "      <td>7 Days</td>\n",
       "      <td>NaN</td>\n",
       "      <td>NaN</td>\n",
       "      <td>Free Trial</td>\n",
       "      <td>7 Days</td>\n",
       "      <td>NaN</td>\n",
       "      <td>INR</td>\n",
       "      <td>INR</td>\n",
       "      <td>iPhone</td>\n",
       "      <td>IN</td>\n",
       "      <td>223411322456765438</td>\n",
       "      <td>NaN</td>\n",
       "      <td>NaN</td>\n",
       "      <td>NaN</td>\n",
       "      <td>1</td>\n",
       "    </tr>\n",
       "  </tbody>\n",
       "</table>\n",
       "</div>"
      ],
      "text/plain": [
       "   Event Date  App Apple ID       Subscription Name  \\\n",
       "0  2019-07-15             1  weekly 9.99 + 7D trial   \n",
       "1  2019-07-15             1  weekly 9.99 + 7D trial   \n",
       "2  2019-07-15             1  weekly 9.99 + 7D trial   \n",
       "3  2019-07-15             1  weekly 9.99 + 7D trial   \n",
       "4  2019-07-15             1  weekly 9.99 + 7D trial   \n",
       "\n",
       "  Standard Subscription Duration  Promotional Offer Name  \\\n",
       "0                         7 Days                     NaN   \n",
       "1                         7 Days                     NaN   \n",
       "2                         7 Days                     NaN   \n",
       "3                         7 Days                     NaN   \n",
       "4                         7 Days                     NaN   \n",
       "\n",
       "   Promotional Offer ID Subscription Offer Type Subscription Offer Duration  \\\n",
       "0                   NaN              Free Trial                      7 Days   \n",
       "1                   NaN              Free Trial                      7 Days   \n",
       "2                   NaN              Free Trial                      7 Days   \n",
       "3                   NaN              Free Trial                      7 Days   \n",
       "4                   NaN              Free Trial                      7 Days   \n",
       "\n",
       "   Marketing Opt-In Duration Customer Currency Proceeds Currency  Device  \\\n",
       "0                        NaN               IDR               IDR  iPhone   \n",
       "1                        NaN               USD               USD  iPhone   \n",
       "2                        NaN               INR               INR  iPhone   \n",
       "3                        NaN               GBP               GBP  iPhone   \n",
       "4                        NaN               INR               INR  iPhone   \n",
       "\n",
       "  Country       Subscriber ID Subscriber ID Reset  Refund  Purchase Date  \\\n",
       "0      ID  223411322456765433                 NaN     NaN            NaN   \n",
       "1      US  223411322456765434                 NaN     NaN            NaN   \n",
       "2      IN  223411322456765435                 NaN     NaN            NaN   \n",
       "3      GB  223411322456765437                 NaN     NaN            NaN   \n",
       "4      IN  223411322456765438                 NaN     NaN            NaN   \n",
       "\n",
       "   Units  \n",
       "0      1  \n",
       "1      1  \n",
       "2      1  \n",
       "3      1  \n",
       "4      1  "
      ]
     },
     "execution_count": 206,
     "metadata": {},
     "output_type": "execute_result"
    }
   ],
   "source": [
    "df.head()"
   ]
  },
  {
   "cell_type": "code",
   "execution_count": 207,
   "metadata": {},
   "outputs": [],
   "source": [
    "df_res = df[['Subscription Offer Type', 'Subscriber ID']].copy()"
   ]
  },
  {
   "cell_type": "code",
   "execution_count": 208,
   "metadata": {},
   "outputs": [
    {
     "data": {
      "text/plain": [
       "(2380, 2)"
      ]
     },
     "execution_count": 208,
     "metadata": {},
     "output_type": "execute_result"
    }
   ],
   "source": [
    "df_res.shape"
   ]
  },
  {
   "cell_type": "code",
   "execution_count": 209,
   "metadata": {},
   "outputs": [
    {
     "data": {
      "text/plain": [
       "1019"
      ]
     },
     "execution_count": 209,
     "metadata": {},
     "output_type": "execute_result"
    }
   ],
   "source": [
    "total_trial = len(df_res[df_res['Subscription Offer Type'] == 'Free Trial'])\n",
    "trial_conversion_rate_lower = total_trial\n",
    "trial_conversion_rate_lower"
   ]
  },
  {
   "cell_type": "code",
   "execution_count": 210,
   "metadata": {},
   "outputs": [],
   "source": [
    "df_res['Periods'] = df_res['Subscriber ID'].map(df_res['Subscriber ID'].value_counts())"
   ]
  },
  {
   "cell_type": "code",
   "execution_count": 211,
   "metadata": {},
   "outputs": [
    {
     "data": {
      "text/plain": [
       "array([1, 2, 3, 4, 5, 6], dtype=int64)"
      ]
     },
     "execution_count": 211,
     "metadata": {},
     "output_type": "execute_result"
    }
   ],
   "source": [
    "periods = np.flip(df_res['Periods'].unique())\n",
    "periods"
   ]
  },
  {
   "cell_type": "code",
   "execution_count": 212,
   "metadata": {},
   "outputs": [],
   "source": [
    "df_res = df_res[df_res['Subscription Offer Type'] == 'Free Trial']"
   ]
  },
  {
   "cell_type": "code",
   "execution_count": 213,
   "metadata": {},
   "outputs": [
    {
     "data": {
      "text/plain": [
       "499"
      ]
     },
     "execution_count": 213,
     "metadata": {},
     "output_type": "execute_result"
    }
   ],
   "source": [
    "trial_conversion_rate_upper = df_res.shape[0] - len(df_res[df_res['Periods'] == 1])\n",
    "trial_conversion_rate_upper"
   ]
  },
  {
   "cell_type": "code",
   "execution_count": 214,
   "metadata": {},
   "outputs": [],
   "source": [
    "trial_conversion_rate = trial_conversion_rate_upper / trial_conversion_rate_lower"
   ]
  },
  {
   "cell_type": "code",
   "execution_count": 215,
   "metadata": {},
   "outputs": [],
   "source": [
    "subscription_price = 9.99\n",
    "apple_store_comission = 0.3"
   ]
  },
  {
   "cell_type": "code",
   "execution_count": 216,
   "metadata": {},
   "outputs": [
    {
     "name": "stdout",
     "output_type": "stream",
     "text": [
      "3.4244425907752696\n"
     ]
    }
   ],
   "source": [
    "ltv = subscription_price * (1 - apple_store_comission) * trial_conversion_rate\n",
    "curr_period_users_count = trial_conversion_rate_upper\n",
    "prev_ltv = ltv\n",
    "\n",
    "print(ltv)\n",
    "\n",
    "# First period was calculated and the last period doesn't have convertion rate\n",
    "for period in range(2, max(periods)):\n",
    "    prev_period_users_count = curr_period_users_count\n",
    "    curr_period_users_count = curr_period_users_count - len(df_res[df_res['Periods'] == period])\n",
    "    trial_conversion_rate = curr_period_users_count/prev_period_users_count\n",
    "    curr_ltv = trial_conversion_rate * prev_ltv\n",
    "    ltv += curr_ltv\n",
    "    prev_ltv = curr_ltv"
   ]
  },
  {
   "cell_type": "code",
   "execution_count": 217,
   "metadata": {},
   "outputs": [
    {
     "name": "stdout",
     "output_type": "stream",
     "text": [
      "LTV: 9.340012757605496\n"
     ]
    }
   ],
   "source": [
    "print(\"LTV:\", ltv)"
   ]
  }
 ],
 "metadata": {
  "kernelspec": {
   "display_name": "Python 3",
   "language": "python",
   "name": "python3"
  },
  "language_info": {
   "codemirror_mode": {
    "name": "ipython",
    "version": 3
   },
   "file_extension": ".py",
   "mimetype": "text/x-python",
   "name": "python",
   "nbconvert_exporter": "python",
   "pygments_lexer": "ipython3",
   "version": "3.7.3"
  }
 },
 "nbformat": 4,
 "nbformat_minor": 2
}
